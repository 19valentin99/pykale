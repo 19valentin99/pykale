{
 "cells": [
  {
   "cell_type": "markdown",
   "source": [
    "# PyKale Tutorial: Drug-Target Interaction Prediction using DeepDTA\r\n",
    "\r\n",
    "| [Open In Colab](https://colab.research.google.com/github/pykale/pykale/blob/main/examples/bindingdb_deepdta/tutorial.ipynb) |\r\n"
   ],
   "metadata": {}
  },
  {
   "cell_type": "markdown",
   "source": [
    "## Introduction\r\n",
    "Drug-target interaction prediction is an important research area in the field of drug discovery. It refers to predicting the binding affinity between the given chemical compounds and protein targets. In this example we train a standard DeepDTA model as a baseline in BindingDB, a public, web-accessible dataset of measured binding affinities.\r\n",
    "\r\n",
    "### DeepDTA\r\n",
    "[DeepDTA](https://academic.oup.com/bioinformatics/article/34/17/i821/5093245) is the modeling of protein sequences and compound 1D representations with convolutional neural networks (CNNs). The whole architecture of DeepDTA is shown below.\r\n",
    "\r\n",
    "![DeepDTA](figures/deepdta.png)\r\n",
    "\r\n",
    "### Datasets\r\n",
    "We construct **three datasets** from BindingDB distinguished by different affinity measurement metrics\r\n",
    "(**Kd, IC50 and Ki**). They are acquired from [Therapeutics Data Commons](https://tdcommons.ai/) (TDC), which is a collection of machine learning tasks spreading across different domains of therapeutics. The data statistics is shown below:\r\n",
    "\r\n",
    "|  Metrics   | Drugs | Targets | Pairs |\r\n",
    "|  :----:  | :----:  |   :----:  | :----:  |\r\n",
    "| Kd  | 10,655 | 1,413 | 52,284 |\r\n",
    "| IC50  | 549,205 | 5,078 | 991,486 |\r\n",
    "| Ki | 174,662 | 3,070 | 375,032 |\r\n",
    "\r\n",
    "This figure is the binding affinity distribution for the three datasets respectively, where the metric values (x-axis) have been transformed into log space.\r\n",
    "![Binding affinity distribution](figures/bindingdb.jpg)\r\n",
    "This tutorial uses the (smallest) **Kd** dataset.\r\n",
    "\r\n",
    "## Setup\r\n",
    "\r\n",
    "The first few blocks of code are necessary to set up the notebook execution environment and import the required modules, including PyKale.\r\n",
    "\r\n",
    "This checks if the notebook is running on Google Colab and installs required packages."
   ],
   "metadata": {}
  },
  {
   "cell_type": "code",
   "execution_count": null,
   "source": [
    "if 'google.colab' in str(get_ipython()):\r\n",
    "    print('Running on CoLab')\r\n",
    "    !pip install rdkit-pypi torchaudio torch-scatter torch-sparse torch-cluster torch-spline-conv torch-geometric -f https://pytorch-geometric.com/whl/torch-1.9.0+cu111.html \r\n",
    "    !pip install git+https://github.com/pykale/pykale.git \r\n",
    "\r\n",
    "    !git clone https://github.com/pykale/pykale.git\r\n",
    "    %cd pykale/examples/bindingdb_deepdta\r\n",
    "else:\r\n",
    "    print('Not running on CoLab')"
   ],
   "outputs": [],
   "metadata": {}
  },
  {
   "cell_type": "markdown",
   "source": [
    "This imports required modules."
   ],
   "metadata": {}
  },
  {
   "cell_type": "code",
   "execution_count": null,
   "source": [
    "import pytorch_lightning as pl\r\n",
    "import torch\r\n",
    "from config import get_cfg_defaults\r\n",
    "from model import get_model\r\n",
    "from pytorch_lightning.callbacks import ModelCheckpoint\r\n",
    "from pytorch_lightning.loggers import CSVLogger, TensorBoardLogger\r\n",
    "from torch.utils.data import DataLoader\r\n",
    "\r\n",
    "from kale.loaddata.tdc_datasets import BindingDBDataset"
   ],
   "outputs": [],
   "metadata": {}
  },
  {
   "cell_type": "markdown",
   "source": [
    "## Configuration\r\n",
    "\r\n",
    "The customized configuration used in this tutorial is stored in `./configs/tutorial.yaml`, this file overwrites defaults in `config.py` where a value is specified."
   ],
   "metadata": {}
  },
  {
   "cell_type": "code",
   "execution_count": null,
   "source": [
    "cfg_path = \"./configs/tutorial.yaml\"\r\n",
    "\r\n",
    "cfg = get_cfg_defaults()\r\n",
    "cfg.merge_from_file(cfg_path)\r\n",
    "cfg.freeze()\r\n",
    "print(cfg)"
   ],
   "outputs": [],
   "metadata": {}
  },
  {
   "cell_type": "markdown",
   "source": [
    "## Check if a GPU is available\r\n",
    "\r\n",
    "If a CUDA GPU is available, this should be used to accelerate the training process. The code below checks and reports on this.\r\n"
   ],
   "metadata": {}
  },
  {
   "cell_type": "code",
   "execution_count": null,
   "source": [
    "device = \"cuda\" if torch.cuda.is_available() else \"cpu\"\r\n",
    "print(\"Using: \" + device)\r\n",
    "gpus = 1 if device == \"cuda\" else 0"
   ],
   "outputs": [],
   "metadata": {}
  },
  {
   "cell_type": "markdown",
   "source": [
    "## Select Datasets\n",
    "\n",
    "Source and target datasets are specified using the `BindingDBDataset()` function and loaded using the `DataLoader()` function."
   ],
   "metadata": {}
  },
  {
   "cell_type": "code",
   "execution_count": null,
   "source": [
    "train_dataset = BindingDBDataset(name=cfg.DATASET.NAME, split=\"train\", path=cfg.DATASET.PATH)\r\n",
    "val_dataset = BindingDBDataset(name=cfg.DATASET.NAME, split=\"valid\", path=cfg.DATASET.PATH)\r\n",
    "test_dataset = BindingDBDataset(name=cfg.DATASET.NAME, split=\"test\", path=cfg.DATASET.PATH)"
   ],
   "outputs": [],
   "metadata": {}
  },
  {
   "cell_type": "code",
   "execution_count": null,
   "source": [
    "cfg.DATASET.PATH"
   ],
   "outputs": [],
   "metadata": {}
  },
  {
   "cell_type": "code",
   "execution_count": null,
   "source": [
    "train_loader = DataLoader(dataset=train_dataset, shuffle=True, batch_size=cfg.SOLVER.TRAIN_BATCH_SIZE)\r\n",
    "val_loader = DataLoader(dataset=val_dataset, shuffle=True, batch_size=cfg.SOLVER.TEST_BATCH_SIZE)\r\n",
    "test_loader = DataLoader(dataset=test_dataset, shuffle=True, batch_size=cfg.SOLVER.TEST_BATCH_SIZE)"
   ],
   "outputs": [],
   "metadata": {}
  },
  {
   "cell_type": "markdown",
   "source": [
    "## Setup model\n",
    "\n",
    "Here, we use the previously defined configuration and dataset to set up the model we will subsequently train."
   ],
   "metadata": {}
  },
  {
   "cell_type": "code",
   "execution_count": null,
   "source": [
    "model = get_model(cfg)"
   ],
   "outputs": [],
   "metadata": {}
  },
  {
   "cell_type": "markdown",
   "source": [
    "## Setup Logger\n",
    "\n",
    "A logger is used to store output generated during and after model training. This information can be used to assess the effectiveness of the training and to identify problems."
   ],
   "metadata": {}
  },
  {
   "cell_type": "code",
   "execution_count": null,
   "source": [
    "tb_logger = TensorBoardLogger(\"tb_logs\", name=cfg.DATASET.NAME)"
   ],
   "outputs": [],
   "metadata": {}
  },
  {
   "cell_type": "markdown",
   "source": [
    "## Setup Trainer\n",
    "\n",
    "A trainer object is used to determine and store model parameters. Here, one is configured with information on how a model should be trained, and what hardware will be used."
   ],
   "metadata": {}
  },
  {
   "cell_type": "code",
   "execution_count": null,
   "source": [
    "checkpoint_callback = ModelCheckpoint(monitor=\"val_loss\", mode=\"min\")\r\n",
    "trainer = pl.Trainer(min_epochs=cfg.SOLVER.MIN_EPOCHS, \r\n",
    "                     max_epochs=cfg.SOLVER.MAX_EPOCHS, \r\n",
    "                     gpus=gpus, logger=tb_logger, \r\n",
    "                     callbacks=[checkpoint_callback])"
   ],
   "outputs": [],
   "metadata": {}
  },
  {
   "cell_type": "markdown",
   "source": [
    "## Train Model\n",
    "\n",
    "Optimize model parameters using the trainer."
   ],
   "metadata": {}
  },
  {
   "cell_type": "code",
   "execution_count": null,
   "source": [
    "%time trainer.fit(model, train_dataloader=train_loader, val_dataloaders=val_loader)"
   ],
   "outputs": [],
   "metadata": {}
  },
  {
   "cell_type": "markdown",
   "source": [
    "## Test Optimized Model\r\n",
    "\r\n",
    "Check performance of model optimized with training data against test data which was not used in training."
   ],
   "metadata": {}
  },
  {
   "cell_type": "code",
   "execution_count": null,
   "source": [
    "trainer.test(test_dataloaders=test_loader)"
   ],
   "outputs": [],
   "metadata": {}
  },
  {
   "cell_type": "markdown",
   "source": [
    "The test loss is high because we set the maximum epochs to only 3, which is very small, to save time in this demo. Setting the max epochs to 100 will get much better results (e.g. <1>)."
   ],
   "metadata": {}
  },
  {
   "cell_type": "markdown",
   "source": [
    "## Architecture\n",
    "Below is the architecture of DeepDTA with default hyperparameters settings.\n",
    "\n",
    "<pre>\n",
    "==========================================================================================\n",
    "Layer (type:depth-idx)                   Output Shape              Param #\n",
    "==========================================================================================\n",
    "├─CNNEncoder: 1-1                        [256, 96]                 --\n",
    "|    └─Embedding: 2-1                    [256, 85, 128]            8,320\n",
    "|    └─Conv1d: 2-2                       [256, 32, 121]            21,792\n",
    "|    └─Conv1d: 2-3                       [256, 64, 114]            16,448\n",
    "|    └─Conv1d: 2-4                       [256, 96, 107]            49,248\n",
    "|    └─AdaptiveMaxPool1d: 2-5            [256, 96, 1]              --\n",
    "├─CNNEncoder: 1-2                        [256, 96]                 --\n",
    "|    └─Embedding: 2-6                    [256, 1200, 128]          3,328\n",
    "|    └─Conv1d: 2-7                       [256, 32, 121]            307,232\n",
    "|    └─Conv1d: 2-8                       [256, 64, 114]            16,448\n",
    "|    └─Conv1d: 2-9                       [256, 96, 107]            49,248\n",
    "|    └─AdaptiveMaxPool1d: 2-10           [256, 96, 1]              --\n",
    "├─MLPDecoder: 1-3                        [256, 1]                  --\n",
    "|    └─Linear: 2-11                      [256, 1024]               197,632\n",
    "|    └─Dropout: 2-12                     [256, 1024]               --\n",
    "|    └─Linear: 2-13                      [256, 1024]               1,049,600\n",
    "|    └─Dropout: 2-14                     [256, 1024]               --\n",
    "|    └─Linear: 2-15                      [256, 512]                524,800\n",
    "|    └─Linear: 2-16                      [256, 1]                  513\n",
    "==========================================================================================\n",
    "Total params: 2,244,609\n",
    "Trainable params: 2,244,609\n",
    "Non-trainable params: 0\n",
    "Total mult-adds (M): 58.08\n",
    "==========================================================================================\n",
    "Input size (MB): 1.32\n",
    "Forward/backward pass size (MB): 429.92\n",
    "Params size (MB): 8.98\n",
    "Estimated Total Size (MB): 440.21"
   ],
   "metadata": {}
  }
 ],
 "metadata": {
  "kernelspec": {
   "display_name": "Python 3",
   "language": "python",
   "name": "python3"
  },
  "language_info": {
   "codemirror_mode": {
    "name": "ipython",
    "version": 3
   },
   "file_extension": ".py",
   "mimetype": "text/x-python",
   "name": "python",
   "nbconvert_exporter": "python",
   "pygments_lexer": "ipython3",
   "version": "3.7.0"
  }
 },
 "nbformat": 4,
 "nbformat_minor": 5
}
