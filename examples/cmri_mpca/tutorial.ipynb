{
 "cells": [
  {
   "cell_type": "markdown",
   "source": [
    "# PyKale Tutorial: PAH Diagnosis from Cardiac MRI (CMR) via a Multilinear PCA-based Pipeline\r\n",
    "| [Open in Colab](https://colab.research.google.com/github/pykale/pykale/blob/cmr_example/examples/cmri_mpca/tutorial.ipynb) |  [Launch Binder](https://mybinder.org/v2/gh/pykale/pykale/HEAD?filepath=examples%2Fcmri_mpca%2Ftutorial.ipynb) |"
   ],
   "metadata": {}
  },
  {
   "cell_type": "markdown",
   "source": [
    "## Overview\r\n",
    "\r\n",
    "- Pre-processing:\r\n",
    "    - Registration\r\n",
    "    - Masking\r\n",
    "    - Rescaling\r\n",
    "    - Normalization\r\n",
    "- Machine learning pipeline:\r\n",
    "    - Multilinear principal component analysis\r\n",
    "    - Discriminative feature selection\r\n",
    "    - Linear classification model training    \r\n",
    "\r\n",
    "[See the full pipeline illustration for more details.](https://oup.silverchair-cdn.com/oup/backfile/Content_public/Journal/ehjcimaging/22/2/10.1093_ehjci_jeaa001/2/m_jeaa001f2.jpeg?Expires=1631272906&Signature=PKl6KLDSoNyiTy~GNtXayJCucGKhweXvGz~svHY~ThjqjbokMVCnyJMMjoGQ4C81HdUcdnJA-rcNaqmDjspUs5eAX7avG~ckkIGXqGbPWrfnaMfwywWG3EXvvH0tw9ZcFeelnWgF4lkT0RFDVgzvzhHBvefNgS0ZGwLqiGJduANJFmWIXvYgNiU6M6kRbdpOJZBltknUO~Jv43-ghqmEX7dTfOKAx6~14quDC5cgzVFfwNFRKSn0P5JZRf~wIhQ6GQ4tprl7eXuzuRHcKnFbM~UkZOtcQvVhJofCCgSDnExyS6bns9Dop39OlfQHUdY4cwn1WaSnMKEqAqQaKZ715w__&Key-Pair-Id=APKAIE5G5CRDK6RD3PGA)\r\n",
    "\r\n",
    "**Reference:**\r\n",
    "\r\n",
    "Swift, A. J., Lu, H., Uthoff, J., Garg, P., Cogliano, M., Taylor, J., ... & Kiely, D. G. (2021). A machine learning cardiac magnetic resonance approach to extract disease features and automate pulmonary arterial hypertension diagnosis. European Heart Journal-Cardiovascular Imaging. [[Link](https://academic.oup.com/ehjcimaging/article/22/2/236/5717931)]"
   ],
   "metadata": {}
  },
  {
   "cell_type": "markdown",
   "source": [
    "## Setup"
   ],
   "metadata": {}
  },
  {
   "cell_type": "code",
   "execution_count": null,
   "source": [
    "if 'google.colab' in str(get_ipython()):\r\n",
    "    print('Running on CoLab')\r\n",
    "    !pip install git+https://github.com/pykale/pykale.git\r\n",
    "    !git clone https://github.com/pykale/pykale.git\r\n",
    "    %cd pykale/examples/cmri_mpca\r\n",
    "else:\r\n",
    "    print('Not running on CoLab')"
   ],
   "outputs": [],
   "metadata": {}
  },
  {
   "cell_type": "markdown",
   "source": [
    "This imports required modules."
   ],
   "metadata": {}
  },
  {
   "cell_type": "code",
   "execution_count": null,
   "source": [
    "import os\r\n",
    "\r\n",
    "%matplotlib inline\r\n",
    "import matplotlib.pyplot as plt\r\n",
    "import numpy as np\r\n",
    "import pandas as pd\r\n",
    "from config import get_cfg_defaults\r\n",
    "\r\n",
    "from kale.utils.download import download_file_by_url\r\n",
    "from kale.loaddata.get_dicom import read_dicom_images\r\n",
    "from kale.interpret import visualize"
   ],
   "outputs": [],
   "metadata": {}
  },
  {
   "cell_type": "markdown",
   "source": [
    "## Get CMR Images, Landmark Locations, and Labels"
   ],
   "metadata": {}
  },
  {
   "cell_type": "code",
   "execution_count": null,
   "source": [
    "cfg_path = \"configs/tutorial_svc.yaml\" # Path to `.yaml` config file\r\n",
    "\r\n",
    "cfg = get_cfg_defaults()\r\n",
    "cfg.merge_from_file(cfg_path)\r\n",
    "cfg.freeze()\r\n",
    "print(cfg)"
   ],
   "outputs": [],
   "metadata": {}
  },
  {
   "cell_type": "markdown",
   "source": [
    "### Download Data"
   ],
   "metadata": {}
  },
  {
   "cell_type": "code",
   "execution_count": null,
   "source": [
    "base_dir = cfg.DATASET.BASE_DIR\r\n",
    "file_format = cfg.DATASET.FILE_FORAMT\r\n",
    "download_file_by_url(cfg.DATASET.SOURCE, cfg.DATASET.ROOT, \"%s.%s\" % (base_dir, file_format), file_format)"
   ],
   "outputs": [],
   "metadata": {}
  },
  {
   "cell_type": "markdown",
   "source": [
    "### Read DICOM Images"
   ],
   "metadata": {}
  },
  {
   "cell_type": "code",
   "execution_count": null,
   "source": [
    "img_path = os.path.join(cfg.DATASET.ROOT, base_dir, cfg.DATASET.IMG_DIR)\r\n",
    "images = read_dicom_images(img_path, sort_instance=True, sort_patient=True)\r\n",
    "\r\n",
    "mask_path = os.path.join(cfg.DATASET.ROOT, base_dir, cfg.DATASET.MASK_DIR)\r\n",
    "mask = read_dicom_images(mask_path, sort_instance=True)"
   ],
   "outputs": [],
   "metadata": {}
  },
  {
   "cell_type": "markdown",
   "source": [
    "### Read Landmarks and Get Labels"
   ],
   "metadata": {}
  },
  {
   "cell_type": "code",
   "execution_count": null,
   "source": [
    "df_file = os.path.join(cfg.DATASET.ROOT, base_dir, cfg.DATASET.LANDMARK_FILE)\r\n",
    "df = pd.read_csv(df_file, index_col=\"Subject\")\r\n",
    "landmarks = df.iloc[:, :6].values\r\n",
    "y = df[\"Group\"].values\r\n",
    "y[np.where(y != 0)] = 1  # convert to binary classification problem, i.e. no PH vs PAH"
   ],
   "outputs": [],
   "metadata": {}
  },
  {
   "cell_type": "markdown",
   "source": [
    "### Visualizing Data and Landmarks"
   ],
   "metadata": {}
  },
  {
   "cell_type": "code",
   "execution_count": null,
   "source": [
    "visualize.plot_multi_images(images[:, 0, ...], marker_locs=landmarks).show()"
   ],
   "outputs": [],
   "metadata": {
    "collapsed": false,
    "pycharm": {
     "name": "#%%\n"
    }
   }
  },
  {
   "cell_type": "markdown",
   "source": [
    "## CMR Pre-processing"
   ],
   "metadata": {}
  },
  {
   "cell_type": "code",
   "execution_count": null,
   "source": [
    "from kale.prepdata.image_transform import mask_img_stack, normalize_img_stack, reg_img_stack, rescale_img_stack"
   ],
   "outputs": [],
   "metadata": {}
  },
  {
   "cell_type": "markdown",
   "source": [
    "### Image Registration"
   ],
   "metadata": {}
  },
  {
   "cell_type": "code",
   "execution_count": null,
   "source": [
    "img_reg, max_dist = reg_img_stack(images, landmarks)"
   ],
   "outputs": [],
   "metadata": {}
  },
  {
   "cell_type": "code",
   "execution_count": null,
   "source": [
    "visualize.plot_multi_images(img_reg[:, 0, ...]).show()"
   ],
   "outputs": [],
   "metadata": {}
  },
  {
   "cell_type": "markdown",
   "source": [
    "### Masking"
   ],
   "metadata": {}
  },
  {
   "cell_type": "code",
   "execution_count": null,
   "source": [
    "img_masked = mask_img_stack(img_reg, mask[0, 0, ...])"
   ],
   "outputs": [],
   "metadata": {}
  },
  {
   "cell_type": "code",
   "execution_count": null,
   "source": [
    "visualize.plot_multi_images(img_masked[:, 0, ...]).show()"
   ],
   "outputs": [],
   "metadata": {}
  },
  {
   "cell_type": "markdown",
   "source": [
    "### Rescaling"
   ],
   "metadata": {}
  },
  {
   "cell_type": "code",
   "execution_count": null,
   "source": [
    "img_rescaled = rescale_img_stack(img_masked, scale=2)"
   ],
   "outputs": [],
   "metadata": {}
  },
  {
   "cell_type": "code",
   "execution_count": null,
   "source": [
    "visualize.plot_multi_images(img_rescaled[:, 0, ...]).show()"
   ],
   "outputs": [],
   "metadata": {}
  },
  {
   "cell_type": "markdown",
   "source": [
    "### Normalization"
   ],
   "metadata": {}
  },
  {
   "cell_type": "code",
   "execution_count": null,
   "source": [
    "img_norm = normalize_img_stack(img_rescaled)"
   ],
   "outputs": [],
   "metadata": {}
  },
  {
   "cell_type": "code",
   "execution_count": null,
   "source": [
    "visualize.plot_multi_images(img_norm[:, 0, ...]).show()"
   ],
   "outputs": [],
   "metadata": {}
  },
  {
   "cell_type": "markdown",
   "source": [
    "## PAH Classification"
   ],
   "metadata": {}
  },
  {
   "cell_type": "code",
   "execution_count": null,
   "source": [
    "from sklearn.model_selection import cross_validate\r\n",
    "from kale.pipeline.mpca_trainer import MPCATrainer\r\n",
    "\r\n",
    "x = img_norm.copy()\r\n",
    "trainer = MPCATrainer(classifier=cfg.PIPELINE.CLASSIFIER, n_features=200)\r\n",
    "cv_results = cross_validate(trainer, x, y, cv=10, scoring=[\"accuracy\", \"roc_auc\"], n_jobs=1)"
   ],
   "outputs": [],
   "metadata": {}
  },
  {
   "cell_type": "code",
   "execution_count": null,
   "source": [
    "cv_results"
   ],
   "outputs": [],
   "metadata": {}
  },
  {
   "cell_type": "code",
   "execution_count": null,
   "source": [
    "print(\"Averaged training time: {:.4f} seconds\" .format(np.mean(cv_results['fit_time'])))\r\n",
    "print(\"Averaged testing time: {:.4f} seconds\" .format(np.mean(cv_results['score_time'])))\r\n",
    "print(\"Averaged Accuracy: {:.4f}\" .format(np.mean(cv_results[\"test_accuracy\"])))\r\n",
    "print(\"Averaged AUC: {:.4f}\" .format(np.mean(cv_results[\"test_roc_auc\"])))"
   ],
   "outputs": [],
   "metadata": {}
  },
  {
   "cell_type": "markdown",
   "source": [
    "## Model Interpretation"
   ],
   "metadata": {}
  },
  {
   "cell_type": "code",
   "execution_count": null,
   "source": [
    "from kale.interpret import model_weights\r\n",
    "\r\n",
    "trainer.fit(x, y)\r\n",
    "\r\n",
    "weights = trainer.mpca.inverse_transform(trainer.clf.coef_) - trainer.mpca.mean_\r\n",
    "top_weights = model_weights.select_top_weight(weights, select_ratio=0.1)\r\n",
    "\r\n",
    "visualize.plot_weights(top_weights[0][0], background_img=x[0][0]).show()"
   ],
   "outputs": [],
   "metadata": {}
  }
 ],
 "metadata": {
  "kernelspec": {
   "display_name": "Python 3",
   "language": "python",
   "name": "python3"
  },
  "language_info": {
   "codemirror_mode": {
    "name": "ipython",
    "version": 3
   },
   "file_extension": ".py",
   "mimetype": "text/x-python",
   "name": "python",
   "nbconvert_exporter": "python",
   "pygments_lexer": "ipython3",
   "version": "3.8.5"
  }
 },
 "nbformat": 4,
 "nbformat_minor": 4
}
