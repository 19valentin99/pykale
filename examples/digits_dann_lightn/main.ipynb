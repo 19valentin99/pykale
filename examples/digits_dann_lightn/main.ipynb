{
 "cells": [
  {
   "cell_type": "markdown",
   "id": "3fbafc0b",
   "metadata": {},
   "source": [
    "# PyKale example: Domain Adaptation on Digits with Lightning\n",
    "\n",
    "This example is constructed by refactoring the [ADA: (Yet) Another Domain Adaptation library](https://github.com/criteo-research/pytorch-ada), with many domain adaptation algorithms included.\n",
    "\n",
    "It has been put together to run interactively on online hosting platofrms including [Google Colab](https://colab.research.google.com) or [myBinder](https://mybinder.org), but can also be downloaded and run locally. Follow the [PyKale](https://github.com/pykale/pykale) installation instructions for this.\n",
    "\n",
    "*ToDo: Description of what this example actually does.*"
   ]
  },
  {
   "cell_type": "markdown",
   "id": "6c4b2d73",
   "metadata": {},
   "source": [
    "# Setup\n",
    "\n",
    "The first few blocks of code are necessary to set up the notebook execution environment and import the required modules, including PyKale.\n",
    "\n",
    "This checks if the notebook is running on Google Colab and installs required packages."
   ]
  },
  {
   "cell_type": "code",
   "execution_count": 1,
   "id": "aa5d00e1",
   "metadata": {},
   "outputs": [
    {
     "name": "stdout",
     "output_type": "stream",
     "text": [
      "Not running on CoLab\n"
     ]
    }
   ],
   "source": [
    "if 'google.colab' in str(get_ipython()):\n",
    "    print('Running on CoLab')\n",
    "    !pip install pykale[extras] \n",
    "\n",
    "    !git clone -b digits-notebook https://github.com/pykale/pykale.git\n",
    "    %cd pykale/examples/digits_dann_lightn\n",
    "else:\n",
    "    print('Not running on CoLab')"
   ]
  },
  {
   "cell_type": "markdown",
   "id": "2c18d099",
   "metadata": {},
   "source": [
    "This imports required modules."
   ]
  },
  {
   "cell_type": "code",
   "execution_count": 2,
   "id": "51b723d9",
   "metadata": {},
   "outputs": [],
   "source": [
    "import logging\n",
    "import os\n",
    "\n",
    "from config import get_cfg_defaults\n",
    "import numpy as np\n",
    "import pytorch_lightning as pl\n",
    "from torch.utils.data import DataLoader\n",
    "from torch.utils.data import SequentialSampler\n",
    "import torchvision\n",
    "\n",
    "from model import get_model\n",
    "\n",
    "from kale.loaddata.digits_access import DigitDataset\n",
    "from kale.loaddata.multi_domain import MultiDomainDatasets\n",
    "from kale.utils.csv_logger import setup_logger\n",
    "from kale.utils.seed import set_seed"
   ]
  },
  {
   "cell_type": "markdown",
   "id": "c6532d78",
   "metadata": {},
   "source": [
    "## Configuration\n",
    "\n",
    "In this example we provide a [default configuration for domain adaptation problems](https://github.com/pykale/pykale/blob/main/examples/digits_dann_lightn/config.py) which  which is tailored using a [`.yaml` file for the specific application in this example](https://github.com/pykale/pykale/blob/main/examples/digits_dann_lightn/configs/TUTORIAL.yaml).\n",
    "\n",
    "If GPUs are to be used at runtime, this is specified using a seperate variable. If you are running this example on Google Colab, or on a machine with GPU support, you might [set this](https://pytorch-lightning.readthedocs.io/en/stable/common/trainer.html#trainer-class-api) to make use of GPU accleration.\n",
    "\n",
    "The configuration is summarised below the following cell."
   ]
  },
  {
   "cell_type": "code",
   "execution_count": 3,
   "id": "8253f704",
   "metadata": {},
   "outputs": [
    {
     "name": "stdout",
     "output_type": "stream",
     "text": [
      "DAN:\n",
      "  METHOD: CDAN\n",
      "  RANDOM_DIM: 1024\n",
      "  USERANDOM: False\n",
      "DATASET:\n",
      "  DIMENSION: 784\n",
      "  NAME: digits\n",
      "  NUM_CLASSES: 10\n",
      "  NUM_REPEAT: 1\n",
      "  ROOT: ../data\n",
      "  SIZE_TYPE: source\n",
      "  SOURCE: svhn\n",
      "  TARGET: usps\n",
      "  VAL_SPLIT_RATIO: 0.5\n",
      "  WEIGHT_TYPE: natural\n",
      "OUTPUT:\n",
      "  DIR: ./outputs\\digits_mnist2usps\n",
      "  PB_FRESH: None\n",
      "  ROOT: ./outputs\n",
      "  VERBOSE: False\n",
      "SOLVER:\n",
      "  AD_LAMBDA: True\n",
      "  AD_LR: True\n",
      "  BASE_LR: 0.001\n",
      "  INIT_LAMBDA: 1\n",
      "  MAX_EPOCHS: 1\n",
      "  MIN_EPOCHS: 0\n",
      "  MOMENTUM: 0.9\n",
      "  NESTEROV: True\n",
      "  SEED: 2020\n",
      "  TEST_BATCH_SIZE: 200\n",
      "  TRAIN_BATCH_SIZE: 150\n",
      "  TYPE: SGD\n",
      "  WEIGHT_DECAY: 0.0005\n"
     ]
    }
   ],
   "source": [
    "cfg_path = \"./configs/TUTORIAL.yaml\" # Path to `.yaml` config file\n",
    "gpus = None # GPU settings\n",
    "\n",
    "cfg = get_cfg_defaults()\n",
    "cfg.merge_from_file(cfg_path)\n",
    "cfg.freeze()\n",
    "print(cfg)"
   ]
  },
  {
   "cell_type": "markdown",
   "id": "759d55dc",
   "metadata": {},
   "source": [
    "# ---- setup output ----"
   ]
  },
  {
   "cell_type": "code",
   "execution_count": 4,
   "id": "292a0aac",
   "metadata": {},
   "outputs": [],
   "source": [
    "os.makedirs(cfg.OUTPUT.DIR, exist_ok=True)\n",
    "format_str = \"@%(asctime)s %(name)s [%(levelname)s] - (%(message)s)\"\n",
    "logging.basicConfig(format=format_str)"
   ]
  },
  {
   "cell_type": "markdown",
   "id": "2a9d0bcd",
   "metadata": {},
   "source": [
    "# ---- setup dataset ----"
   ]
  },
  {
   "cell_type": "code",
   "execution_count": 5,
   "id": "df1ae7ac",
   "metadata": {},
   "outputs": [],
   "source": [
    "source, target, num_channels = DigitDataset.get_source_target(\n",
    "    DigitDataset(cfg.DATASET.SOURCE.upper()), DigitDataset(cfg.DATASET.TARGET.upper()), cfg.DATASET.ROOT\n",
    ")\n",
    "\n",
    "dataset = MultiDomainDatasets(\n",
    "    source,\n",
    "    target,\n",
    "    config_weight_type=cfg.DATASET.WEIGHT_TYPE,\n",
    "    config_size_type=cfg.DATASET.SIZE_TYPE,\n",
    "    val_split_ratio=cfg.DATASET.VAL_SPLIT_RATIO,\n",
    ")"
   ]
  },
  {
   "cell_type": "markdown",
   "id": "71b96eb0",
   "metadata": {},
   "source": [
    "# Repeat multiple times to get std"
   ]
  },
  {
   "cell_type": "code",
   "execution_count": 6,
   "id": "66cc2485",
   "metadata": {
    "scrolled": false
   },
   "outputs": [
    {
     "name": "stdout",
     "output_type": "stream",
     "text": [
      "==> Building model for seed 2020 ......\n",
      "Using downloaded and verified file: ../data\\train_32x32.mat\n",
      "Using downloaded and verified file: ../data\\test_32x32.mat\n"
     ]
    },
    {
     "name": "stderr",
     "output_type": "stream",
     "text": [
      "C:\\Users\\bobturner\\.conda\\envs\\pykale\\lib\\site-packages\\pytorch_lightning\\utilities\\distributed.py:69: UserWarning: Checkpoint directory ./outputs\\digits_mnist2usps\\checkpoints\\c8ffda20f933bfb5ff885ff343472ef3\\CDAN\\seed_2020 exists and is not empty.\n",
      "  warnings.warn(*args, **kwargs)\n",
      "GPU available: False, used: False\n",
      "TPU available: False, using: 0 TPU cores\n",
      "\n",
      "  | Name              | Type                | Params\n",
      "----------------------------------------------------------\n",
      "0 | feat              | SmallCNNFeature     | 312 K \n",
      "1 | classifier        | ClassNetSmallImage  | 24.4 K\n",
      "2 | domain_classifier | DomainNetSmallImage | 128 K \n",
      "----------------------------------------------------------\n",
      "466 K     Trainable params\n",
      "0         Non-trainable params\n",
      "466 K     Total params\n",
      "1.864     Total estimated model params size (MB)\n"
     ]
    },
    {
     "data": {
      "application/vnd.jupyter.widget-view+json": {
       "model_id": "",
       "version_major": 2,
       "version_minor": 0
      },
      "text/plain": [
       "Validation sanity check: 0it [00:00, ?it/s]"
      ]
     },
     "metadata": {},
     "output_type": "display_data"
    },
    {
     "data": {
      "application/vnd.jupyter.widget-view+json": {
       "model_id": "3f42fced517c4bbaa0092b680a15b926",
       "version_major": 2,
       "version_minor": 0
      },
      "text/plain": [
       "Training: 0it [00:00, ?it/s]"
      ]
     },
     "metadata": {},
     "output_type": "display_data"
    },
    {
     "name": "stderr",
     "output_type": "stream",
     "text": [
      "C:\\Users\\bobturner\\.conda\\envs\\pykale\\lib\\site-packages\\pytorch_lightning\\utilities\\distributed.py:69: UserWarning: Detected KeyboardInterrupt, attempting graceful shutdown...\n",
      "  warnings.warn(*args, **kwargs)\n"
     ]
    },
    {
     "ename": "MisconfigurationException",
     "evalue": "`.test(ckpt_path=\"best\")` is set but `ModelCheckpoint` is not configured to save the best model.",
     "output_type": "error",
     "traceback": [
      "\u001b[1;31m---------------------------------------------------------------------------\u001b[0m",
      "\u001b[1;31mMisconfigurationException\u001b[0m                 Traceback (most recent call last)",
      "\u001b[1;32m<ipython-input-6-e2dfd2bf00b7>\u001b[0m in \u001b[0;36m<module>\u001b[1;34m\u001b[0m\n\u001b[0;32m     33\u001b[0m     )\n\u001b[0;32m     34\u001b[0m     \u001b[1;31m# test scores\u001b[0m\u001b[1;33m\u001b[0m\u001b[1;33m\u001b[0m\u001b[1;33m\u001b[0m\u001b[0m\n\u001b[1;32m---> 35\u001b[1;33m     \u001b[0mtrainer\u001b[0m\u001b[1;33m.\u001b[0m\u001b[0mtest\u001b[0m\u001b[1;33m(\u001b[0m\u001b[1;33m)\u001b[0m\u001b[1;33m\u001b[0m\u001b[1;33m\u001b[0m\u001b[0m\n\u001b[0m\u001b[0;32m     36\u001b[0m     results.update(\n\u001b[0;32m     37\u001b[0m         \u001b[0mis_validation\u001b[0m\u001b[1;33m=\u001b[0m\u001b[1;32mFalse\u001b[0m\u001b[1;33m,\u001b[0m \u001b[0mmethod_name\u001b[0m\u001b[1;33m=\u001b[0m\u001b[0mcfg\u001b[0m\u001b[1;33m.\u001b[0m\u001b[0mDAN\u001b[0m\u001b[1;33m.\u001b[0m\u001b[0mMETHOD\u001b[0m\u001b[1;33m,\u001b[0m \u001b[0mseed\u001b[0m\u001b[1;33m=\u001b[0m\u001b[0mseed\u001b[0m\u001b[1;33m,\u001b[0m \u001b[0mmetric_values\u001b[0m\u001b[1;33m=\u001b[0m\u001b[0mtrainer\u001b[0m\u001b[1;33m.\u001b[0m\u001b[0mcallback_metrics\u001b[0m\u001b[1;33m,\u001b[0m\u001b[1;33m\u001b[0m\u001b[1;33m\u001b[0m\u001b[0m\n",
      "\u001b[1;32m~\\.conda\\envs\\pykale\\lib\\site-packages\\pytorch_lightning\\trainer\\trainer.py\u001b[0m in \u001b[0;36mtest\u001b[1;34m(self, model, test_dataloaders, ckpt_path, verbose, datamodule)\u001b[0m\n\u001b[0;32m    574\u001b[0m \u001b[1;33m\u001b[0m\u001b[0m\n\u001b[0;32m    575\u001b[0m         \u001b[1;32mif\u001b[0m \u001b[1;32mnot\u001b[0m \u001b[0mmodel_provided\u001b[0m\u001b[1;33m:\u001b[0m\u001b[1;33m\u001b[0m\u001b[1;33m\u001b[0m\u001b[0m\n\u001b[1;32m--> 576\u001b[1;33m             \u001b[0mself\u001b[0m\u001b[1;33m.\u001b[0m\u001b[0mtested_ckpt_path\u001b[0m \u001b[1;33m=\u001b[0m \u001b[0mself\u001b[0m\u001b[1;33m.\u001b[0m\u001b[0m__load_ckpt_weights\u001b[0m\u001b[1;33m(\u001b[0m\u001b[0mckpt_path\u001b[0m\u001b[1;33m)\u001b[0m\u001b[1;33m\u001b[0m\u001b[1;33m\u001b[0m\u001b[0m\n\u001b[0m\u001b[0;32m    577\u001b[0m \u001b[1;33m\u001b[0m\u001b[0m\n\u001b[0;32m    578\u001b[0m         \u001b[1;31m# run test\u001b[0m\u001b[1;33m\u001b[0m\u001b[1;33m\u001b[0m\u001b[1;33m\u001b[0m\u001b[0m\n",
      "\u001b[1;32m~\\.conda\\envs\\pykale\\lib\\site-packages\\pytorch_lightning\\trainer\\trainer.py\u001b[0m in \u001b[0;36m__load_ckpt_weights\u001b[1;34m(self, ckpt_path)\u001b[0m\n\u001b[0;32m   1130\u001b[0m                     )\n\u001b[0;32m   1131\u001b[0m                 raise MisconfigurationException(\n\u001b[1;32m-> 1132\u001b[1;33m                     \u001b[1;34mf'`.{fn}(ckpt_path=\"best\")` is set but `ModelCheckpoint` is not configured to save the best model.'\u001b[0m\u001b[1;33m\u001b[0m\u001b[1;33m\u001b[0m\u001b[0m\n\u001b[0m\u001b[0;32m   1133\u001b[0m                 )\n\u001b[0;32m   1134\u001b[0m             \u001b[1;31m# load best weights\u001b[0m\u001b[1;33m\u001b[0m\u001b[1;33m\u001b[0m\u001b[1;33m\u001b[0m\u001b[0m\n",
      "\u001b[1;31mMisconfigurationException\u001b[0m: `.test(ckpt_path=\"best\")` is set but `ModelCheckpoint` is not configured to save the best model."
     ]
    }
   ],
   "source": [
    "for i in range(0, cfg.DATASET.NUM_REPEAT):\n",
    "    seed = cfg.SOLVER.SEED + i * 10\n",
    "    # seed_everything in pytorch_lightning did not set torch.backends.cudnn\n",
    "    set_seed(seed)\n",
    "    print(f\"==> Building model for seed {seed} ......\")\n",
    "    # ---- setup model and logger ----\n",
    "    model, train_params = get_model(cfg, dataset, num_channels)\n",
    "    logger, results, checkpoint_callback, test_csv_file = setup_logger(\n",
    "        train_params, cfg.OUTPUT.DIR, cfg.DAN.METHOD, seed\n",
    "    )\n",
    "\n",
    "    if gpus is None:\n",
    "        trainer = pl.Trainer(\n",
    "            progress_bar_refresh_rate=cfg.OUTPUT.PB_FRESH,  # in steps\n",
    "            min_epochs=cfg.SOLVER.MIN_EPOCHS,\n",
    "            max_epochs=cfg.SOLVER.MAX_EPOCHS,\n",
    "            callbacks=[checkpoint_callback],\n",
    "            logger=False,\n",
    "        )\n",
    "    else:\n",
    "        trainer = pl.Trainer(\n",
    "            progress_bar_refresh_rate=cfg.OUTPUT.PB_FRESH,  # in steps\n",
    "            min_epochs=cfg.SOLVER.MIN_EPOCHS,\n",
    "            max_epochs=cfg.SOLVER.MAX_EPOCHS,\n",
    "            callbacks=[checkpoint_callback],\n",
    "            logger=False,\n",
    "            gpus=gpus,\n",
    "        )\n",
    "\n",
    "    trainer.fit(model)\n",
    "    results.update(\n",
    "        is_validation=True, method_name=cfg.DAN.METHOD, seed=seed, metric_values=trainer.callback_metrics,\n",
    "    )\n",
    "    # test scores\n",
    "    trainer.test()\n",
    "    results.update(\n",
    "        is_validation=False, method_name=cfg.DAN.METHOD, seed=seed, metric_values=trainer.callback_metrics,\n",
    "    )\n",
    "    results.to_csv(test_csv_file)\n",
    "    results.print_scores(cfg.DAN.METHOD)"
   ]
  }
 ],
 "metadata": {
  "kernelspec": {
   "display_name": "Python 3",
   "language": "python",
   "name": "python3"
  },
  "language_info": {
   "codemirror_mode": {
    "name": "ipython",
    "version": 3
   },
   "file_extension": ".py",
   "mimetype": "text/x-python",
   "name": "python",
   "nbconvert_exporter": "python",
   "pygments_lexer": "ipython3",
   "version": "3.7.10"
  }
 },
 "nbformat": 4,
 "nbformat_minor": 5
}
